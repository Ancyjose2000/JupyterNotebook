{
 "cells": [
  {
   "cell_type": "markdown",
   "id": "9755fcd0-92de-4f5d-885f-d2cc4f501f40",
   "metadata": {},
   "source": [
    "# My Jupyter Notebook on IBM Watson Studio\n",
    "__Ancy P Jose__"
   ]
  },
  {
   "cell_type": "markdown",
   "id": "aedfcd15-5124-4816-a2e3-f4303e1ab31c",
   "metadata": {},
   "source": [
    "Student"
   ]
  },
  {
   "cell_type": "markdown",
   "id": "faaa7827-a97f-4080-a643-d9fcee15e100",
   "metadata": {},
   "source": [
    "_I am interested in data science because data are the future._"
   ]
  },
  {
   "cell_type": "markdown",
   "id": "5cfcb480-828b-47c3-a7e8-6c8da87b712d",
   "metadata": {},
   "source": [
    "### The following code tests the Gauss Formula"
   ]
  },
  {
   "cell_type": "code",
   "execution_count": 6,
   "id": "6d24221f-d04d-4d19-bc0e-e5e16d675cc3",
   "metadata": {},
   "outputs": [
    {
     "data": {
      "text/plain": [
       "True"
      ]
     },
     "execution_count": 6,
     "metadata": {},
     "output_type": "execute_result"
    }
   ],
   "source": [
    "def gauss(n):\n",
    "    return (n*(n+1))/2\n",
    "gauss(100) == sum (range(101))"
   ]
  },
  {
   "cell_type": "markdown",
   "id": "0c7d82c8-6c40-4c6a-ace8-f2bfd4ef696c",
   "metadata": {},
   "source": [
    "__Animals__\n",
    " * Dog\n",
    " * Cat\n",
    " * Lion\n",
    " * Horse"
   ]
  },
  {
   "cell_type": "markdown",
   "id": "95bda3eb-6d73-4e39-8259-71b5fe6b6b54",
   "metadata": {},
   "source": [
    "%%html\n",
    "<style>\n",
    "table {float:center}\n",
    "</style>"
   ]
  },
  {
   "cell_type": "markdown",
   "id": "770bce0a-15ab-4809-8f0b-ccf3ecb52bc3",
   "metadata": {},
   "source": [
    "<table style='float:center'>\n",
    "     <tr>\n",
    "    <th style='text-align: center:'>Laptop</th>\n",
    "     <th style='text-align: left:'>rice</th>\n",
    "        </tr>\n",
    "        <tr>\n",
    "    <td style='text-align: left:'>Apple Macbook</td>\n",
    "     <td style='text-align: left:'>&dollar;1,249.59</td>\n",
    "        </tr>\n",
    "        <tr>\n",
    "    <td style='text-align: left:'>HP Chromebook</td>\n",
    "     <td style='text-align: left:'>&dollar;944.69</td>       \n",
    "        </tr>\n",
    "</table>\n"
   ]
  },
  {
   "cell_type": "code",
   "execution_count": null,
   "id": "7efd5752-b0b1-42a3-9a97-fca6c8d07015",
   "metadata": {},
   "outputs": [],
   "source": []
  }
 ],
 "metadata": {
  "kernelspec": {
   "display_name": "Python",
   "language": "python",
   "name": "conda-env-python-py"
  },
  "language_info": {
   "codemirror_mode": {
    "name": "ipython",
    "version": 3
   },
   "file_extension": ".py",
   "mimetype": "text/x-python",
   "name": "python",
   "nbconvert_exporter": "python",
   "pygments_lexer": "ipython3",
   "version": "3.7.12"
  }
 },
 "nbformat": 4,
 "nbformat_minor": 5
}
